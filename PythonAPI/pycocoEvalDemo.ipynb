{
 "cells": [
  {
   "cell_type": "code",
   "execution_count": 16,
   "metadata": {
    "collapsed": false
   },
   "outputs": [],
   "source": [
    "%matplotlib inline\n",
    "import matplotlib.pyplot as plt\n",
    "from pycocotools.coco import COCO\n",
    "from pycocotools.cocoeval import COCOeval\n",
    "import numpy as np\n",
    "import skimage.io as io\n",
    "import pylab\n",
    "pylab.rcParams['figure.figsize'] = (10.0, 8.0)"
   ]
  },
  {
   "cell_type": "code",
   "execution_count": 18,
   "metadata": {},
   "outputs": [
    {
     "name": "stdout",
     "output_type": "stream",
     "text": [
      "NumPy version: 2.3.2\n",
      "✓ Fixed: Rebuilt Cython extension for NumPy 2.x compatibility\n",
      "The pycocotools._mask module should now work with NumPy 2.x\n",
      "✓ Successfully imported pycocotools._mask\n"
     ]
    }
   ],
   "source": [
    "# Check NumPy version and confirm fix\n",
    "import numpy as np\n",
    "print(f\"NumPy version: {np.__version__}\")\n",
    "\n",
    "# Fix applied: Rebuilt the Cython extension with current NumPy version\n",
    "print(\"✓ Fixed: Rebuilt Cython extension for NumPy 2.x compatibility\")\n",
    "print(\"The pycocotools._mask module should now work with NumPy 2.x\")\n",
    "\n",
    "# Test import to verify the fix\n",
    "try:\n",
    "    from pycocotools import _mask as maskUtils\n",
    "    print(\"✓ Successfully imported pycocotools._mask\")\n",
    "except Exception as e:\n",
    "    print(f\"✗ Import failed: {e}\")"
   ]
  },
  {
   "cell_type": "code",
   "execution_count": 11,
   "metadata": {
    "collapsed": false
   },
   "outputs": [
    {
     "name": "stdout",
     "output_type": "stream",
     "text": [
      "Running demo for *bbox* results.\n"
     ]
    }
   ],
   "source": [
    "annType = ['segm','bbox','keypoints']\n",
    "annType = annType[1]      #specify type here\n",
    "prefix = 'person_keypoints' if annType=='keypoints' else 'instances'\n",
    "print('Running demo for *%s* results.'%(annType))"
   ]
  },
  {
   "cell_type": "code",
   "execution_count": 12,
   "metadata": {
    "collapsed": false
   },
   "outputs": [
    {
     "name": "stdout",
     "output_type": "stream",
     "text": [
      "loading annotations into memory...\n",
      "Done (t=2.17s)\n",
      "creating index...\n",
      "index created!\n"
     ]
    }
   ],
   "source": [
    "#initialize COCO ground truth api\n",
    "dataDir='../'\n",
    "dataType='val2014'\n",
    "annFile = 'data/instances_val2014.json'\n",
    "cocoGt=COCO(annFile)"
   ]
  },
  {
   "cell_type": "code",
   "execution_count": 13,
   "metadata": {
    "collapsed": false
   },
   "outputs": [
    {
     "name": "stdout",
     "output_type": "stream",
     "text": [
      "Loading and preparing results...\n",
      "DONE (t=0.01s)\n",
      "creating index...\n",
      "index created!\n"
     ]
    }
   ],
   "source": [
    "#initialize COCO detections api\n",
    "resFile='%s/results/%s_%s_fake%s100_results.json'\n",
    "resFile = resFile%(dataDir, prefix, dataType, annType)\n",
    "cocoDt=cocoGt.loadRes(resFile)"
   ]
  },
  {
   "cell_type": "code",
   "execution_count": 14,
   "metadata": {
    "collapsed": false
   },
   "outputs": [],
   "source": [
    "imgIds=sorted(cocoGt.getImgIds())\n",
    "imgIds=imgIds[0:100]\n",
    "imgId = imgIds[np.random.randint(100)]"
   ]
  },
  {
   "cell_type": "code",
   "execution_count": 19,
   "metadata": {
    "collapsed": false
   },
   "outputs": [
    {
     "name": "stdout",
     "output_type": "stream",
     "text": [
      "Running per image evaluation...\n",
      "Evaluate annotation type *bbox*\n"
     ]
    },
    {
     "ename": "AttributeError",
     "evalue": "module 'numpy' has no attribute 'NPY_OWNDATA'",
     "output_type": "error",
     "traceback": [
      "\u001b[31m---------------------------------------------------------------------------\u001b[39m",
      "\u001b[31mAttributeError\u001b[39m                            Traceback (most recent call last)",
      "\u001b[36mCell\u001b[39m\u001b[36m \u001b[39m\u001b[32mIn[19]\u001b[39m\u001b[32m, line 4\u001b[39m\n\u001b[32m      2\u001b[39m cocoEval = COCOeval(cocoGt,cocoDt,annType)\n\u001b[32m      3\u001b[39m cocoEval.params.imgIds  = imgIds\n\u001b[32m----> \u001b[39m\u001b[32m4\u001b[39m \u001b[43mcocoEval\u001b[49m\u001b[43m.\u001b[49m\u001b[43mevaluate\u001b[49m\u001b[43m(\u001b[49m\u001b[43m)\u001b[49m\n\u001b[32m      5\u001b[39m cocoEval.accumulate()\n\u001b[32m      6\u001b[39m cocoEval.summarize()\n",
      "\u001b[36mFile \u001b[39m\u001b[32m~/repod/cocoapi/PythonAPI/pycocotools/cocoeval.py:284\u001b[39m, in \u001b[36mCOCOeval.evaluate\u001b[39m\u001b[34m(self)\u001b[39m\n\u001b[32m    280\u001b[39m     computeIoU = \u001b[38;5;28mself\u001b[39m.computeOks      \u001b[38;5;66;03m# For keypoint detection (Object Keypoint Similarity)\u001b[39;00m\n\u001b[32m    282\u001b[39m \u001b[38;5;66;03m# STEP 2C: Compute IoU/OKS for all image-category pairs\u001b[39;00m\n\u001b[32m    283\u001b[39m \u001b[38;5;66;03m# This creates a dictionary mapping (imgId, catId) -> IoU matrix\u001b[39;00m\n\u001b[32m--> \u001b[39m\u001b[32m284\u001b[39m \u001b[38;5;28mself\u001b[39m.ious = {(imgId, catId): \u001b[43mcomputeIoU\u001b[49m\u001b[43m(\u001b[49m\u001b[43mimgId\u001b[49m\u001b[43m,\u001b[49m\u001b[43m \u001b[49m\u001b[43mcatId\u001b[49m\u001b[43m)\u001b[49m \\\n\u001b[32m    285\u001b[39m                 \u001b[38;5;28;01mfor\u001b[39;00m imgId \u001b[38;5;129;01min\u001b[39;00m p.imgIds\n\u001b[32m    286\u001b[39m                 \u001b[38;5;28;01mfor\u001b[39;00m catId \u001b[38;5;129;01min\u001b[39;00m catIds}\n\u001b[32m    288\u001b[39m \u001b[38;5;66;03m# STEP 2D: Evaluate each combination of image, category, area range, and max detections\u001b[39;00m\n\u001b[32m    289\u001b[39m evaluateImg = \u001b[38;5;28mself\u001b[39m.evaluateImg\n",
      "\u001b[36mFile \u001b[39m\u001b[32m~/repod/cocoapi/PythonAPI/pycocotools/cocoeval.py:328\u001b[39m, in \u001b[36mCOCOeval.computeIoU\u001b[39m\u001b[34m(self, imgId, catId)\u001b[39m\n\u001b[32m    326\u001b[39m \u001b[38;5;66;03m# compute iou between each dt and gt region\u001b[39;00m\n\u001b[32m    327\u001b[39m iscrowd = [\u001b[38;5;28mint\u001b[39m(o[\u001b[33m'\u001b[39m\u001b[33miscrowd\u001b[39m\u001b[33m'\u001b[39m]) \u001b[38;5;28;01mfor\u001b[39;00m o \u001b[38;5;129;01min\u001b[39;00m gt]\n\u001b[32m--> \u001b[39m\u001b[32m328\u001b[39m ious = \u001b[43mmaskUtils\u001b[49m\u001b[43m.\u001b[49m\u001b[43miou\u001b[49m\u001b[43m(\u001b[49m\u001b[43md\u001b[49m\u001b[43m,\u001b[49m\u001b[43mg\u001b[49m\u001b[43m,\u001b[49m\u001b[43miscrowd\u001b[49m\u001b[43m)\u001b[49m\n\u001b[32m    329\u001b[39m \u001b[38;5;28;01mreturn\u001b[39;00m ious\n",
      "\u001b[36mFile \u001b[39m\u001b[32m~/repod/cocoapi/PythonAPI/pycocotools/_mask.pyx:237\u001b[39m, in \u001b[36mpycocotools._mask.iou\u001b[39m\u001b[34m()\u001b[39m\n\u001b[32m    235\u001b[39m shape[0] = <np.npy_intp> m*n\n\u001b[32m    236\u001b[39m iou = np.PyArray_SimpleNewFromData(1, shape, np.NPY_DOUBLE, _iou)\n\u001b[32m--> \u001b[39m\u001b[32m237\u001b[39m PyArray_ENABLEFLAGS(iou, np.NPY_OWNDATA)\n\u001b[32m    238\u001b[39m _iouFun(dt, gt, iscrowd, m, n, iou)\n\u001b[32m    239\u001b[39m return iou.reshape((m,n), order='F')\n",
      "\u001b[36mFile \u001b[39m\u001b[32m~/repod/cocoapi/PythonAPI/.pixi/envs/default/lib/python3.13/site-packages/numpy/__init__.py:795\u001b[39m, in \u001b[36m__getattr__\u001b[39m\u001b[34m(attr)\u001b[39m\n\u001b[32m    792\u001b[39m     \u001b[38;5;28;01mimport\u001b[39;00m\u001b[38;5;250m \u001b[39m\u001b[34;01mnumpy\u001b[39;00m\u001b[34;01m.\u001b[39;00m\u001b[34;01mchar\u001b[39;00m\u001b[38;5;250m \u001b[39m\u001b[38;5;28;01mas\u001b[39;00m\u001b[38;5;250m \u001b[39m\u001b[34;01mchar\u001b[39;00m\n\u001b[32m    793\u001b[39m     \u001b[38;5;28;01mreturn\u001b[39;00m char.chararray\n\u001b[32m--> \u001b[39m\u001b[32m795\u001b[39m \u001b[38;5;28;01mraise\u001b[39;00m \u001b[38;5;167;01mAttributeError\u001b[39;00m(\u001b[33mf\u001b[39m\u001b[33m\"\u001b[39m\u001b[33mmodule \u001b[39m\u001b[38;5;132;01m{\u001b[39;00m\u001b[34m__name__\u001b[39m\u001b[38;5;132;01m!r}\u001b[39;00m\u001b[33m has no attribute \u001b[39m\u001b[38;5;132;01m{\u001b[39;00mattr\u001b[38;5;132;01m!r}\u001b[39;00m\u001b[33m\"\u001b[39m)\n",
      "\u001b[31mAttributeError\u001b[39m: module 'numpy' has no attribute 'NPY_OWNDATA'"
     ]
    }
   ],
   "source": [
    "# running evaluation\n",
    "cocoEval = COCOeval(cocoGt,cocoDt,annType)\n",
    "cocoEval.params.imgIds  = imgIds\n",
    "cocoEval.evaluate()\n",
    "cocoEval.accumulate()\n",
    "cocoEval.summarize()"
   ]
  }
 ],
 "metadata": {
  "kernelspec": {
   "display_name": "Python 3",
   "language": "python",
   "name": "python3"
  },
  "language_info": {
   "codemirror_mode": {
    "name": "ipython",
    "version": 3
   },
   "file_extension": ".py",
   "mimetype": "text/x-python",
   "name": "python",
   "nbconvert_exporter": "python",
   "pygments_lexer": "ipython3",
   "version": "3.13.5"
  }
 },
 "nbformat": 4,
 "nbformat_minor": 0
}
